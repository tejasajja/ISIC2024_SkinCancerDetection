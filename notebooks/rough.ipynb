{
 "cells": [
  {
   "cell_type": "code",
   "execution_count": null,
   "id": "initial_id",
   "metadata": {
    "collapsed": true
   },
   "outputs": [],
   "source": []
  },
  {
   "cell_type": "code",
   "outputs": [
    {
     "name": "stdout",
     "output_type": "stream",
     "text": [
      "Fixed notebook saved to C:\\Users\\tejas\\Desktop\\ISIC2024_SkinCancerDetection\\notebooks\\EAD.ipynb\n"
     ]
    }
   ],
   "source": [
    "import nbformat\n",
    "\n",
    "def fix_notebook(filepath):\n",
    "    with open(filepath, 'r', encoding='utf-8') as f:\n",
    "        nb = nbformat.read(f, as_version=4)\n",
    "\n",
    "    # Fix cells\n",
    "    for cell in nb['cells']:\n",
    "        if cell['cell_type'] == 'code':\n",
    "            if 'execution_count' not in cell:\n",
    "                cell['execution_count'] = None\n",
    "            if 'outputs' not in cell:\n",
    "                cell['outputs'] = []\n",
    "\n",
    "    with open(filepath, 'w', encoding='utf-8') as f:\n",
    "        nbformat.write(nb, f)\n",
    "\n",
    "    print(f\"Fixed notebook saved to {filepath}\")\n",
    "\n",
    "# Provide the path to your notebook\n",
    "notebook_path = r'C:\\Users\\tejas\\Desktop\\ISIC2024_SkinCancerDetection\\notebooks\\EAD.ipynb'\n",
    "fix_notebook(notebook_path)"
   ],
   "metadata": {
    "collapsed": false,
    "ExecuteTime": {
     "end_time": "2024-07-03T23:08:34.938229Z",
     "start_time": "2024-07-03T23:08:34.546175Z"
    }
   },
   "id": "5bdff9b4baa2c3aa",
   "execution_count": 1
  },
  {
   "cell_type": "code",
   "outputs": [],
   "source": [],
   "metadata": {
    "collapsed": false
   },
   "id": "a7c10666502deba1"
  }
 ],
 "metadata": {
  "kernelspec": {
   "display_name": "Python 3",
   "language": "python",
   "name": "python3"
  },
  "language_info": {
   "codemirror_mode": {
    "name": "ipython",
    "version": 2
   },
   "file_extension": ".py",
   "mimetype": "text/x-python",
   "name": "python",
   "nbconvert_exporter": "python",
   "pygments_lexer": "ipython2",
   "version": "2.7.6"
  }
 },
 "nbformat": 4,
 "nbformat_minor": 5
}
